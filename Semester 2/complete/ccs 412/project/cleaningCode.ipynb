{
 "cells": [
  {
   "cell_type": "code",
   "execution_count": 4,
   "metadata": {},
   "outputs": [],
   "source": [
    "# import pandas as pd\n",
    "\n",
    "# # Read the CSV file into a DataFrame\n",
    "# df = pd.read_csv('tweets.csv')\n",
    "\n",
    "# # Drop the column you want to delete\n",
    "# column_to_delete = 'user_timezone'\n",
    "# df.drop(columns=[column_to_delete], inplace=True)\n",
    "\n",
    "# # Save the modified DataFrame back to a CSV file\n",
    "# df.to_csv('tweets.csv', index=False)\n",
    "# print(df)\n"
   ]
  },
  {
   "cell_type": "code",
   "execution_count": 5,
   "metadata": {},
   "outputs": [],
   "source": [
    "# import pandas as pd\n",
    "\n",
    "# # Read the CSV file into a DataFrame\n",
    "# df = pd.read_csv('tweets.csv')\n",
    "\n",
    "# # Sample 1000 reviews randomly\n",
    "# sampled_df = df.sample(n=1000, random_state=42)  # You can change the random_state if you want different samples\n",
    "\n",
    "# # Drop the sampled reviews from the original DataFrame\n",
    "# df.drop(sampled_df.index, inplace=True)\n",
    "\n",
    " \n",
    "# # Overwrite the original CSV file with the remaining reviews\n",
    "# df.to_csv('reviews.csv', index=False)\n"
   ]
  },
  {
   "cell_type": "code",
   "execution_count": 6,
   "metadata": {},
   "outputs": [],
   "source": [
    "# import pandas as pd\n",
    "# df = pd.read_csv('airline.csv')\n",
    "\n",
    "# print(df)"
   ]
  },
  {
   "cell_type": "code",
   "execution_count": 7,
   "metadata": {},
   "outputs": [],
   "source": [
    "# import pandas as pd\n",
    "\n",
    "# # Read the CSV file into a DataFrame\n",
    "# df = pd.read_csv('airline.csv')\n",
    "\n",
    "# # Store the names of the two columns\n",
    "# column1_name = 'text'  # Replace with the actual column name\n",
    "# column2_name = 'airline_sentiment'  # Replace with the actual column name\n",
    "\n",
    "# # Swap the positions of the two columns\n",
    "# df[column1_name], df[column2_name] = df[column2_name], df[column1_name].copy()\n",
    "\n",
    "# # Save the modified DataFrame back to a CSV file\n",
    "# df.to_csv('airline.csv', index=False)\n"
   ]
  },
  {
   "cell_type": "code",
   "execution_count": 8,
   "metadata": {},
   "outputs": [],
   "source": [
    "# import pandas as pd\n",
    "\n",
    "# # Read the CSV file into a DataFrame\n",
    "# df = pd.read_csv('airline.csv')\n",
    "\n",
    "# # Define the new names for the first and second columns\n",
    "# new_first_column_name = 'text'   # Replace with the desired new name for the first column\n",
    "# new_second_column_name = 'sentiment' # Replace with the desired new name for the second column\n",
    "\n",
    "# # Rename the first and second columns\n",
    "# df.rename(columns={df.columns[0]: new_first_column_name, df.columns[1]: new_second_column_name}, inplace=True)\n",
    "\n",
    "# # Save the modified DataFrame back to a CSV file\n",
    "# df.to_csv('airline.csv', index=False)\n"
   ]
  },
  {
   "cell_type": "code",
   "execution_count": 9,
   "metadata": {},
   "outputs": [],
   "source": [
    "# import pandas as pd\n",
    "\n",
    "# # Read the CSV file into a DataFrame\n",
    "# df = pd.read_csv('airline.csv')\n",
    "\n",
    "# # Sample 1000 reviews randomly\n",
    "# sampled_df = df.sample(n=1000, random_state=42)  # You can change the random_state if you want different samples\n",
    "\n",
    "# # Drop the sampled reviews from the original DataFrame\n",
    "# df.drop(sampled_df.index, inplace=True)\n",
    "\n",
    "# # Save the sampled reviews to a new CSV file\n",
    "# sampled_df.to_csv('new.csv', index=False)\n",
    "\n",
    "# # Overwrite the original CSV file with the remaining reviews\n",
    "# df.to_csv('airline.csv', index=False)\n"
   ]
  },
  {
   "cell_type": "code",
   "execution_count": 10,
   "metadata": {},
   "outputs": [],
   "source": [
    "# import pandas as pd\n",
    "# import re\n",
    "\n",
    "# # Read the CSV file into a DataFrame\n",
    "# df = pd.read_csv('anida - Sheet1 (1).csv')\n",
    "\n",
    "# # Define a function to remove Twitter tags from text\n",
    "# def remove_twitter_tags(text):\n",
    "#     return re.sub(r'@[A-Za-z0-9_]+', '', text)\n",
    "\n",
    "# # Apply the function to the text column\n",
    "# df['tweets'] = df['tweets'].apply(remove_twitter_tags)\n",
    "\n",
    "# # Save the modified DataFrame back to a CSV file\n",
    "# df.to_csv('anida - Sheet1 (1).csv', index=False)\n"
   ]
  },
  {
   "cell_type": "code",
   "execution_count": 11,
   "metadata": {},
   "outputs": [],
   "source": [
    "# import pandas as pd\n",
    "# import re\n",
    "\n",
    "# # Read the CSV file into a DataFrame\n",
    "# df = pd.read_csv('airline.csv')\n",
    "\n",
    "# # Define a function to remove emojis from text\n",
    "# def remove_emojis(text):\n",
    "#     emoji_pattern = re.compile(\"[\"\n",
    "#                            u\"\\U0001F600-\\U0001F64F\"  # emoticons\n",
    "#                            u\"\\U0001F300-\\U0001F5FF\"  # symbols & pictographs\n",
    "#                            u\"\\U0001F680-\\U0001F6FF\"  # transport & map symbols\n",
    "#                            u\"\\U0001F1E0-\\U0001F1FF\"  # flags (iOS)\n",
    "#                            \"]+\", flags=re.UNICODE)\n",
    "#     return emoji_pattern.sub(r'', text)\n",
    "\n",
    "# # Apply the function to the text column\n",
    "# df['text'] = df['text'].apply(remove_emojis)\n",
    "\n",
    "# # Save the modified DataFrame back to a CSV file\n",
    "# df.to_csv('airline.csv', index=False)\n"
   ]
  },
  {
   "cell_type": "code",
   "execution_count": 12,
   "metadata": {},
   "outputs": [],
   "source": [
    "# import pandas as pd\n",
    "# import re\n",
    "\n",
    "# # Read the CSV file into a DataFrame\n",
    "# df = pd.read_csv('anida - Sheet1 (1).csv')\n",
    "\n",
    "# # Define a function to remove URLs from text\n",
    "# def remove_urls(text):\n",
    "#     return re.sub(r'https?://\\S+', '', text)\n",
    "\n",
    "# # Apply the function to the text column\n",
    "# df['tweets'] = df['tweets'].apply(remove_urls)\n",
    "\n",
    "# # Save the modified DataFrame back to a CSV file\n",
    "# df.to_csv('anida - Sheet1 (1).csv', index=False)\n"
   ]
  },
  {
   "cell_type": "code",
   "execution_count": 13,
   "metadata": {},
   "outputs": [
    {
     "name": "stdout",
     "output_type": "stream",
     "text": [
      "Defaulting to user installation because normal site-packages is not writeable\n",
      "Requirement already satisfied: langdetect in /home/anidakim/.local/lib/python3.12/site-packages (1.0.9)\n",
      "Requirement already satisfied: six in /usr/lib/python3.12/site-packages (from langdetect) (1.16.0)\n"
     ]
    }
   ],
   "source": [
    "!pip install langdetect"
   ]
  },
  {
   "cell_type": "code",
   "execution_count": 14,
   "metadata": {},
   "outputs": [],
   "source": [
    "# import pandas as pd\n",
    "# from langdetect import detect\n",
    "\n",
    "# # Read the CSV file into a DataFrame\n",
    "# df = pd.read_csv('airline.csv')\n",
    "\n",
    "# # Define a function to filter out non-English text\n",
    "# def keep_only_english(text):\n",
    "#     try:\n",
    "#         if detect(text) == 'en':\n",
    "#             return text\n",
    "#         else:\n",
    "#             return ''\n",
    "#     except:\n",
    "#         return ''\n",
    "\n",
    "# # Apply the function to the text column\n",
    "# df['text'] = df['text'].apply(keep_only_english)\n",
    "\n",
    "# # Drop rows with empty text (non-English)\n",
    "# df = df[df['text'] != '']\n",
    "\n",
    "# # Save the modified DataFrame back to a CSV file\n",
    "# df.to_csv('airline.csv', index=False)\n"
   ]
  },
  {
   "cell_type": "code",
   "execution_count": 15,
   "metadata": {},
   "outputs": [
    {
     "name": "stdout",
     "output_type": "stream",
     "text": [
      "                                                  text sentiment\n",
      "0     they sent her a letter and said they would ta...  negative\n",
      "1     I'm on UA1118 and my direct tv isn't working....  negative\n",
      "2     how do you have only 1 flight into lexington ...   neutral\n",
      "3     I tried calling for yet another delayed fligh...  negative\n",
      "4                     that's awesome! Love flying SWA!  positive\n",
      "..                                                 ...       ...\n",
      "995   what's the deal with the flight computer netw...  negative\n",
      "996   flight ua3576, gate b1. And tell ray I someho...  positive\n",
      "997                                         thank you!  positive\n",
      "998                                          Fuck you.  negative\n",
      "999   fl 249 to DFW is leaving Newark on time but i...   neutral\n",
      "\n",
      "[1000 rows x 2 columns]\n"
     ]
    }
   ],
   "source": [
    "import pandas as pd\n",
    "df = pd.read_csv('airline.csv')\n",
    "print(df)"
   ]
  }
 ],
 "metadata": {
  "kernelspec": {
   "display_name": "Python 3",
   "language": "python",
   "name": "python3"
  },
  "language_info": {
   "codemirror_mode": {
    "name": "ipython",
    "version": 3
   },
   "file_extension": ".py",
   "mimetype": "text/x-python",
   "name": "python",
   "nbconvert_exporter": "python",
   "pygments_lexer": "ipython3",
   "version": "3.12.2"
  }
 },
 "nbformat": 4,
 "nbformat_minor": 2
}
