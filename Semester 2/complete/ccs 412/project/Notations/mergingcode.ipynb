{
 "cells": [
  {
   "cell_type": "code",
   "execution_count": 2,
   "metadata": {},
   "outputs": [
    {
     "name": "stdout",
     "output_type": "stream",
     "text": [
      "                                                  text final_sentiment\n",
      "0     they sent her a letter and said they would ta...        negative\n",
      "1     I'm on UA1118 and my direct tv isn't working....        negative\n",
      "2     how do you have only 1 flight into lexington ...         neutral\n",
      "3     I tried calling for yet another delayed fligh...        negative\n",
      "4                     that's awesome! Love flying SWA!        positive\n",
      "..                                                 ...             ...\n",
      "995   what's the deal with the flight computer netw...        negative\n",
      "996   flight ua3576, gate b1. And tell ray I someho...        positive\n",
      "997                                         thank you!        positive\n",
      "998                                          Fuck you.        negative\n",
      "999   fl 249 to DFW is leaving Newark on time but i...         neutral\n",
      "\n",
      "[1000 rows x 2 columns]\n",
      "Final sentiment file  has been created.\n"
     ]
    }
   ],
   "source": [
    "import pandas as pd\n",
    "\n",
    "# Read CSV files into pandas DataFrames\n",
    "df1 = pd.read_csv('anida.csv')\n",
    "df2 = pd.read_csv('ben.csv')\n",
    "df3 = pd.read_csv('tina.csv')\n",
    "\n",
    "# Concatenate all 'sentiment' columns into one DataFrame\n",
    "sentiment_df = pd.concat([df1['sentiment'], df2['sentiment'], df3['sentiment']], axis=1)\n",
    "\n",
    "# Calculate the mode (most common sentiment) across the three CSV files\n",
    "final_sentiment = sentiment_df.mode(axis=1)[0]\n",
    "\n",
    "# Create a DataFrame with 'text' and final_sentiment columns\n",
    "final_df = pd.DataFrame({'text': df1['text'], 'sentiment': final_sentiment})\n",
    "\n",
    "# Output the resulting DataFrame with final sentiments\n",
    "print(final_df)\n",
    "\n",
    "# Save the final DataFrame to a CSV file\n",
    "final_df.to_csv('airline.csv', index=False)\n",
    "\n",
    "# Output a message to confirm the file has been created\n",
    "print(\"Final sentiment file  has been created.\")\n"
   ]
  }
 ],
 "metadata": {
  "kernelspec": {
   "display_name": "Python 3",
   "language": "python",
   "name": "python3"
  },
  "language_info": {
   "codemirror_mode": {
    "name": "ipython",
    "version": 3
   },
   "file_extension": ".py",
   "mimetype": "text/x-python",
   "name": "python",
   "nbconvert_exporter": "python",
   "pygments_lexer": "ipython3",
   "version": "3.12.2"
  }
 },
 "nbformat": 4,
 "nbformat_minor": 2
}
